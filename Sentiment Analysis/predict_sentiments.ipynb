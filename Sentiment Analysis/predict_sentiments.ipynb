{
 "metadata": {
  "language_info": {
   "codemirror_mode": {
    "name": "ipython",
    "version": 3
   },
   "file_extension": ".py",
   "mimetype": "text/x-python",
   "name": "python",
   "nbconvert_exporter": "python",
   "pygments_lexer": "ipython3",
   "version": "3.8.8"
  },
  "orig_nbformat": 4,
  "kernelspec": {
   "name": "python3",
   "display_name": "Python 3.8.8 64-bit ('Julian': virtualenv)"
  },
  "interpreter": {
   "hash": "4138dce0fa74a6453ad2e7bd72e4222e8a2660a917e8bc73b32b3d62a6a94433"
  }
 },
 "nbformat": 4,
 "nbformat_minor": 2,
 "cells": [
  {
   "source": [
    "# Predicting Sentiment from Tweets using BERT\n",
    "\n",
    "The following file will take in a dataset containing Tweets, do some pre-processing on the Tweets, then use an Ensemble BERT model to predict the sentiments of Tweets. Just follow the instructions below and run each cell subsequently."
   ],
   "cell_type": "markdown",
   "metadata": {}
  },
  {
   "source": [
    "## Installing libraries\n",
    "\n",
    "To run this code natively on your own computers instead of on Docker, you'll have to install the following libraries. \n",
    "\n",
    "* `pip install nltk`\n",
    "* `pip3 install emoji`\n",
    "* `pip install pandas`\n",
    "* `pip install transformers`\n",
    "* `pip install datasets`\n",
    "* `pip3 install torch torchvision`\n",
    "* `pip install -U scikit-learn`\n",
    "* `pip install regex`"
   ],
   "cell_type": "markdown",
   "metadata": {}
  },
  {
   "source": [
    "## Pre-processing\n",
    "\n",
    "First, we'll pre-process your data to remove any URLs, emojis, or username mentions. Important to note before running this code is that you should have your dataset of Tweets in the same directory as this notebook, and you should replace the placeholder names in the code below. `\"TWEETSETNAME.csv\"` should be replaced by the name of your dataset, and `\"TWEETSCOLUMN\"` should be replaced by the name of the column in your CSV file that has the Tweets."
   ],
   "cell_type": "markdown",
   "metadata": {}
  },
  {
   "cell_type": "code",
   "execution_count": null,
   "metadata": {},
   "outputs": [],
   "source": [
    "import pandas as pd\n",
    "tweets = pd.read_csv(\"TWEETSETNAME.csv\") # Change TWEETSETNAME to the name of your CSV file\n",
    "tweets['label'] = int(1)\n",
    "from TweetNormalizer import normalizeTweet\n",
    "tweets_column = \"tweet\" # Change TWEETSCOLUMN to the name of the column in your CSV with the text of the Tweets\n",
    "tweets[tweets_column] = tweets[tweets_column].apply(normalizeTweet)\n",
    "tweets.to_csv(\"tweets_to_predict.csv\", index = False)\n",
    "tweets[0:5].to_csv(\"tweets_to_predict_test.csv\", index = False)"
   ]
  },
  {
   "source": [
    "## Test Run\n",
    "\n",
    "Running the full algorithm on all of your Tweets may take a while, so to make sure that everything is set up correctly run the cell below. If you get the first few rows of a dataframe at the end of the following output, you should be good!"
   ],
   "cell_type": "markdown",
   "metadata": {}
  },
  {
   "cell_type": "code",
   "execution_count": null,
   "metadata": {},
   "outputs": [],
   "source": [
    "from datasets import Dataset\n",
    "test_tweets = pd.read_csv(\"tweets_to_predict_test.csv\")\n",
    "test_dataset = Dataset.from_pandas(test_tweets)\n",
    "\n",
    "from sentiment_analysis import get_sentiment_predictions\n",
    "\n",
    "test_tweets[\"label\"] = get_sentiment_predictions(test_dataset[tweets_column])\n",
    "test_tweets[[tweets_column, \"label\"]].head()"
   ]
  },
  {
   "source": [
    "## Actual Run\n",
    "\n",
    "If that displayed correctly, then run the following chunk! Your output should be saved as `tweets_predicted.csv`. It might take a while."
   ],
   "cell_type": "markdown",
   "metadata": {}
  },
  {
   "cell_type": "code",
   "execution_count": null,
   "metadata": {},
   "outputs": [],
   "source": [
    "tweets = pd.read_csv(\"tweets_to_predict.csv\")\n",
    "dataset = Dataset.from_pandas(tweets)\n",
    "\n",
    "tweets[\"label\"] = get_sentiment_predictions(dataset[tweets_column])\n",
    "tweets.to_csv(\"tweets_predicted.csv\", index = False)"
   ]
  }
 ]
}